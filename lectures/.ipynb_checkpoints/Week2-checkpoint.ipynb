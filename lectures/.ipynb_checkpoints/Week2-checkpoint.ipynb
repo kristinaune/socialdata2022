{
 "cells": [
  {
   "cell_type": "markdown",
   "metadata": {},
   "source": [
    "# Week 2\n",
    "\n",
    "As explained in the [Before week 1: How to take this class](https://nbviewer.org/github/suneman/socialdata2022/blob/main/lectures/How_To_Take_This_Class.ipynb) notebook, each week of this class is an Jupyter notebook like this one. In order to follow the class, you simply start reading from the top, following the instructions.\n",
    "\n",
    "Hint: you can ask us - Anna or any of the friendly Teaching Assistants - for help at any point if you get \n",
    "stuck!\n",
    "\n",
    "**New Info**: Remember that this week is also the time to learn a bit about how the the assignments and the final project work. So if you havn't already, check out the [Before week 2: Assignments and Final Project](https://github.com/suneman/socialdata2022/blob/main/lectures/Assignments_And_Final_Project.ipynb) notebook."
   ]
  },
  {
   "cell_type": "markdown",
   "metadata": {},
   "source": [
    "## Overview\n",
    "\n",
    "Today's lecture has 3 parts. \n",
    "* First we'll give you an introduction to data visualization with a little data visualization exercise and a video from Sune. \n",
    "* As the main event, we will work with crime-data and generate a large number of interesting and informative plots. \n",
    "* Finally - in the last part - we'll play around with visualizing the geo-data contained in the CSV file."
   ]
  },
  {
   "cell_type": "markdown",
   "metadata": {},
   "source": [
    "## Part 1: A little visualization exercise\n",
    "\n",
    "Start by downloading these four datasets: [Data 1](https://raw.githubusercontent.com/suneman/socialdata2022/main/files/data1.tsv), [Data 2](https://raw.githubusercontent.com/suneman/socialdata2022/main/files/data2.tsv), [Data 3](https://raw.githubusercontent.com/suneman/socialdata2022/main/files/data3.tsv), and [Data 4](https://raw.githubusercontent.com/suneman/socialdata2022/main/files/data4.tsv). The format is `.tsv`, which stands for _tab separated values_. \n",
    "As you will later realize, these are famous datasets!\n",
    "Each file has two columns (separated using the tab character). The first column is $x$-values, and the second column is $y$-values.  \n",
    "\n",
    "It's ok to just download these files to disk by right-clicking on each one, but if you use Python and `urllib` or `urllib2` to get them, I'll really be impressed. If you don't know how to do that, I recommend opening up Google and typing \"download file using Python\" or something like that. When interpreting the search results remember that _stackoverflow_ is your friend.\n",
    "\n",
    "Now, to the exercise:\n",
    "\n",
    "> *Exercise 1.1*: \n",
    "> \n",
    "> * Using the `numpy` function `mean`, calculate the mean of both $x$-values and $y$-values for each dataset. \n",
    ">      * Use python string formatting to print precisely two decimal places of these results to the output cell. Check out [this _stackoverflow_ page](http://stackoverflow.com/questions/8885663/how-to-format-a-floating-number-to-fixed-width-in-python) for help with the string formatting. \n",
    "> * Now calculate the variance for all of the various sets of $x$- and $y$-values, by using the `numpy` function `var`. Print it to three decimal places.\n",
    "> * Use `numpy` to calculate the [Pearson correlation](https://en.wikipedia.org/wiki/Pearson_product-moment_correlation_coefficient) between $x$- and $y$-values for all four data sets (also print to three decimal places).\n",
    "> * The next step is use _linear regression_ to fit a straight line $f(x) = a x + b$ through each dataset and report $a$ and $b$ (to two decimal places). An easy way to fit a straight line in Python is using `scipy`'s `linregress`. It works like this\n",
    "> ```\n",
    "> from scipy import stats\n",
    "> slope, intercept, r_value, p_value, std_err = stats.linregress(x,y)\n",
    ">```\n",
    "> * Comment on the results from the previous steps. What do you observe? \n",
    "> * Finally, it's time to plot the four datasets using `matplotlib.pyplot`. Use a two-by-two [`subplot`](http://matplotlib.org/examples/pylab_examples/subplot_demo.html) to put all of the plots nicely in a grid and use the same $x$ and $y$ range for all four plots. And include the linear fit in all four plots. (To get a sense of what I think the plot should look like, you can take a look at my version [here](https://raw.githubusercontent.com/suneman/socialdata2022/main/files/anscombe.png).)\n",
    "> * Explain - in your own words - what you think my point with this exercise is (see below for tips on this).\n",
    "\n",
    "\n",
    "Get more insight in the ideas behind this exercise by reading [here](https://en.wikipedia.org/wiki/Anscombe%27s_quartet). Here you can also get an explanation of why the datasets are actually famous - I mean they have their own Wikipedia page!!\n",
    "\n",
    "And the video below generalizes in the coolest way imaginable. It's a treat, but don't watch it until **after** you've done the exercises - and read the Wikipedia page. **Note:** Uncomment the line in the cell below to watch the video!"
   ]
  },
  {
   "cell_type": "code",
   "execution_count": 101,
   "metadata": {},
   "outputs": [
    {
     "name": "stdout",
     "output_type": "stream",
     "text": [
      "Mean value for data1 x-value is 9.0\n",
      "Mean value for data2 x-value is 9.0\n",
      "Mean value for data3 x-value is 9.0\n",
      "Mean value for data4 x-value is 9.0\n",
      "Mean value for data1 y-value is 7.500909090909093\n",
      "Mean value for data2 y-value is 7.50090909090909\n",
      "Mean value for data3 y-value is 7.5\n",
      "Mean value for data4 y-value is 7.500909090909091\n",
      "Variance value for data1 x-value is 10.0\n",
      "Variance value for data2 x-value is 10.0\n",
      "Variance value for data3 x-value is 10.0\n",
      "Variance value for data4 x-value is 10.0\n",
      "Variance value for data1 y-value is 3.7520628099173554\n",
      "Variance value for data2 y-value is 3.752390082644628\n",
      "Variance value for data3 y-value is 3.747836363636364\n",
      "Variance value for data4 y-value is 3.7484082644628103\n",
      "Correlation value for data1  is [[1.         0.81642052]\n",
      " [0.81642052 1.        ]]\n",
      "Correlation value for data2 is [[1.         0.81623651]\n",
      " [0.81623651 1.        ]]\n",
      "Correlation value for data3 is [[1.         0.81628674]\n",
      " [0.81628674 1.        ]]\n",
      "Correlation value for data4 is [[1.         0.81652144]\n",
      " [0.81652144 1.        ]]\n"
     ]
    }
   ],
   "source": [
    "#Exercise 1.1\n",
    "import pandas as pd\n",
    "import numpy as np\n",
    "\n",
    "data1 = pd.read_csv('https://raw.githubusercontent.com/suneman/socialdata2022/main/files/data1.tsv', sep=\"\\t\", header=None, names=[\"x-values\", \"y-values\"])\n",
    "data2 = pd.read_csv('https://raw.githubusercontent.com/suneman/socialdata2022/main/files/data2.tsv', sep=\"\\t\", header=None, names=[\"x-values\", \"y-values\"])\n",
    "data3 = pd.read_csv('https://raw.githubusercontent.com/suneman/socialdata2022/main/files/data3.tsv', sep=\"\\t\", header=None, names=[\"x-values\", \"y-values\"])\n",
    "data4 = pd.read_csv('https://raw.githubusercontent.com/suneman/socialdata2022/main/files/data4.tsv', sep=\"\\t\", header=None, names=[\"x-values\", \"y-values\"])\n",
    "\n",
    "\n",
    "def calculate_mean_x(data):\n",
    "    x_values_data = []\n",
    "    for i in range(len(data[\"x-values\"])):\n",
    "        x_values_data.append(data[\"x-values\"][i])\n",
    "    return np.mean(x_values_data) \n",
    "\n",
    "def calculate_mean_y(data):\n",
    "    y_values_data = []\n",
    "    for i in range(len(data[\"y-values\"])):\n",
    "        y_values_data.append(data[\"y-values\"][i])\n",
    "    return np.mean(y_values_data) \n",
    "\n",
    "\n",
    "def calculate_var_x(data):\n",
    "    x_values_data = []\n",
    "    for i in range(len(data[\"x-values\"])):\n",
    "        x_values_data.append(data[\"x-values\"][i])\n",
    "    return np.var(x_values_data) \n",
    "\n",
    "def calculate_var_y(data):\n",
    "    y_values_data = []\n",
    "    for i in range(len(data[\"y-values\"])):\n",
    "        y_values_data.append(data[\"y-values\"][i])\n",
    "    return np.var(y_values_data) \n",
    "\n",
    "def calculate_cor(data):\n",
    "    x_values_data = []\n",
    "    y_values_data = []\n",
    "    for i in range(len(data[\"x-values\"])):\n",
    "        x_values_data.append(data[\"x-values\"][i])\n",
    "    for i in range(len(data[\"y-values\"])):\n",
    "        y_values_data.append(data[\"y-values\"][i])\n",
    "    return np.corrcoef(x_values_data, y_values_data)\n",
    "\n",
    "\n",
    "print(\"Mean value for data1 x-value is \" + str((calculate_mean_x(data1))))\n",
    "print(\"Mean value for data2 x-value is \" + str(calculate_mean_x(data2)))\n",
    "print(\"Mean value for data3 x-value is \" + str(calculate_mean_x(data3)))\n",
    "print(\"Mean value for data4 x-value is \" + str(calculate_mean_x(data4)))\n",
    "\n",
    "print(\"Mean value for data1 y-value is \" + str(calculate_mean_y(data1)))\n",
    "print(\"Mean value for data2 y-value is \" + str(calculate_mean_y(data2)))\n",
    "print(\"Mean value for data3 y-value is \" + str(calculate_mean_y(data3)))\n",
    "print(\"Mean value for data4 y-value is \" + str(calculate_mean_y(data4)))\n",
    "\n",
    "print(\"Variance value for data1 x-value is \" + str(calculate_var_x(data1)))\n",
    "print(\"Variance value for data2 x-value is \" + str(calculate_var_x(data2)))\n",
    "print(\"Variance value for data3 x-value is \" + str(calculate_var_x(data3)))\n",
    "print(\"Variance value for data4 x-value is \" + str(calculate_var_x(data4)))\n",
    "\n",
    "print(\"Variance value for data1 y-value is \" + str(calculate_var_y(data1)))\n",
    "print(\"Variance value for data2 y-value is \" + str(calculate_var_y(data2)))\n",
    "print(\"Variance value for data3 y-value is \" + str(calculate_var_y(data3)))\n",
    "print(\"Variance value for data4 y-value is \" + str(calculate_var_y(data4)))\n",
    "\n",
    "print(\"Correlation value for data1  is \" + str(calculate_cor(data1)))\n",
    "print(\"Correlation value for data2 is \" + str(calculate_cor(data2)))\n",
    "print(\"Correlation value for data3 is \" + str(calculate_cor(data3)))\n",
    "print(\"Correlation value for data4 is \" + str(calculate_cor(data4)))\n",
    "\n"
   ]
  },
  {
   "cell_type": "code",
   "execution_count": 63,
   "metadata": {},
   "outputs": [
    {
     "name": "stdout",
     "output_type": "stream",
     "text": [
      "Linear regression for data1:  ('slope:', '      0.50', 'intercept:', '      3.00', 'r_value:', '      0.82', 'p_value:', '      0.00', 'std_err:', '      0.12')\n",
      "Linear regression for data2:  ('slope:', '      0.50', 'intercept:', '      3.00', 'r_value:', '      0.82', 'p_value:', '      0.00', 'std_err:', '      0.12')\n",
      "Linear regression for data3:  ('slope:', '      0.50', 'intercept:', '      3.00', 'r_value:', '      0.82', 'p_value:', '      0.00', 'std_err:', '      0.12')\n",
      "Linear regression for data4:  ('slope:', '      0.50', 'intercept:', '      3.00', 'r_value:', '      0.82', 'p_value:', '      0.00', 'std_err:', '      0.12')\n"
     ]
    }
   ],
   "source": [
    "from scipy import stats\n",
    "\n",
    "def lin_reg(data):\n",
    "    for i in range(len(data)):\n",
    "        slope, intercept, r_value, p_value, std_err = stats.linregress(data[\"x-values\"],data[\"y-values\"])\n",
    "    return (\"slope:\" ,\"{:10.2f}\".format(slope), \"intercept:\" , \"{:10.2f}\".format(intercept), \"r_value:\" ,\"{:10.2f}\".format(r_value), \"p_value:\" ,\"{:10.2f}\".format(p_value), \"std_err:\" ,\"{:10.2f}\".format(std_err), )\n",
    "\n",
    "print(\"Linear regression for data1: \", lin_reg(data1))\n",
    "print(\"Linear regression for data2: \", lin_reg(data2))\n",
    "print(\"Linear regression for data3: \", lin_reg(data3))\n",
    "print(\"Linear regression for data4: \", lin_reg(data4))\n"
   ]
  },
  {
   "cell_type": "code",
   "execution_count": 100,
   "metadata": {},
   "outputs": [
    {
     "data": {
      "image/png": "[encoded data removed]",
      "text/plain": [
       "<Figure size 432x288 with 4 Axes>"
      ]
     },
     "metadata": {
      "needs_background": "light"
     },
     "output_type": "display_data"
    }
   ],
   "source": [
    "import matplotlib.pyplot as plt\n",
    "import numpy as np\n",
    "\n",
    "\n",
    "\n",
    "x1 = data1[\"x-values\"]\n",
    "y1 = data1[\"y-values\"]\n",
    "\n",
    "k_1, d_1 = np.polyfit(x1, y1, 1)\n",
    "y_pred_1 = k_1*x1 + d_1\n",
    "\n",
    "x2 = data2[\"x-values\"]\n",
    "y2 = data2[\"y-values\"]\n",
    "\n",
    "k_2, d_2 = np.polyfit(x2, y2, 1)\n",
    "y_pred_2 = k_2*x2 + d_2\n",
    "\n",
    "x3 = data3[\"x-values\"]\n",
    "y3 = data3[\"y-values\"]\n",
    "\n",
    "k_3, d_3 = np.polyfit(x3, y3, 1)\n",
    "y_pred_3 = k_3*x3 + d_3\n",
    "\n",
    "x4 = data4[\"x-values\"]\n",
    "y4 = data4[\"y-values\"]\n",
    "\n",
    "k_4, d_4 = np.polyfit(x4, y4, 1)\n",
    "y_pred_4 = k_4*x4 + d_4\n",
    "\n",
    "\n",
    "plt.subplot(2, 2, 1)\n",
    "plt.plot(x1, y1, 'k.')\n",
    "plt.plot(x1, y_pred_1,'r-')\n",
    "plt.title('Data1')\n",
    "plt.xlabel('x-values')\n",
    "plt.ylabel('y-values')\n",
    "\n",
    "plt.subplot(2, 2, 2)\n",
    "plt.plot(x2, y2, 'k.')\n",
    "plt.plot(x2, y_pred_2,'r-')\n",
    "plt.title('Data2')\n",
    "plt.xlabel('x-values')\n",
    "plt.ylabel('y-values')\n",
    "\n",
    "plt.subplot(2, 2, 3)\n",
    "plt.plot(x3, y3, 'k.')\n",
    "plt.plot(x3, y_pred_3,'r-')\n",
    "plt.title('Data3')\n",
    "plt.xlabel('x-values')\n",
    "plt.ylabel('y-values')\n",
    "\n",
    "plt.subplot(2, 2, 4)\n",
    "plt.plot(x4, y4, 'k.')\n",
    "plt.plot(x4, y_pred_4,'r-')\n",
    "plt.title('Data4')\n",
    "plt.xlabel('x-values')\n",
    "plt.ylabel('y-values')\n",
    "plt.show()\n"
   ]
  },
  {
   "cell_type": "code",
   "execution_count": 37,
   "metadata": {},
   "outputs": [],
   "source": [
    "from IPython.display import YouTubeVideo\n",
    "#Uncomment the following line to watch the video\n",
    "#YouTubeVideo(\"DbJyPELmhJc\",width=800, height=450)"
   ]
  },
  {
   "cell_type": "markdown",
   "metadata": {},
   "source": [
    "Now that you get a better sense of why data visualization is an important and powerful tool, you are ready to get a small intro on the topic! Again, don't watch the video until **after** you've done exercise 1.1 \n",
    "\n",
    "[![IMAGE ALT TEXT HERE](https://img.youtube.com/vi/9D2aI30AMhM/0.jpg)](https://www.youtube.com/watch?v=9D2aI30AMhM)"
   ]
  },
  {
   "cell_type": "markdown",
   "metadata": {},
   "source": [
    "> *Excercise 1.2:* Questions for the lecture\n",
    "> * What is the difference between *data* and *metadata*? How does that relate to the GPS tracks-example?\n",
    "> * Sune says that the human eye is a great tool for data analysis. Do you agree? Explain why/why not. Mention something that the human eye is very good at. Can you think of something that [is difficult for the human eye](http://cdn.ebaumsworld.com/mediaFiles/picture/718392/84732652.jpg). Explain why your example is difficult. \n",
    "> * Simpson's paradox is hard to explain. Come up with your own example - or find one on line.\n",
    "> * In your own words, explain the differnece between *exploratory* and *explanatory* data analysis. \n"
   ]
  },
  {
   "cell_type": "markdown",
   "metadata": {},
   "source": [
    "## Part 2: Visualizing patterns in the data\n",
    "\n",
    "Visualizing data is a powerful technique that helps us exploiting the human eye, and make complex patterns easier to identify. \n",
    "\n",
    "Let's see if we can detect any interesting patterns in the big crime-data file from San Francisco you downloaded last week. We'll again only look at the focus-crimes."
   ]
  },
  {
   "cell_type": "code",
   "execution_count": 102,
   "metadata": {},
   "outputs": [],
   "source": [
    "focuscrimes = set(['WEAPON LAWS', 'PROSTITUTION', 'DRIVING UNDER THE INFLUENCE', 'ROBBERY', 'BURGLARY', 'ASSAULT', 'DRUNKENNESS', 'DRUG/NARCOTIC', 'TRESPASS', 'LARCENY/THEFT', 'VANDALISM', 'VEHICLE THEFT', 'STOLEN PROPERTY', 'DISORDERLY CONDUCT'])"
   ]
  },
  {
   "cell_type": "markdown",
   "metadata": {},
   "source": [
    "> *Exercise 2.1*: More temporal patterns. Last time we plotted the development over time (how each of the focus crimes changed over time, year-by-year). Today we'll start by looking at the developments across the months, weekdays, and across the 24 hours of the day. \n",
    ">\n",
    "> **Note:** restrict yourself to the dataset of *entire years*.\n",
    ">\n",
    "> * *Weekly patterns*. Basically, we'll forget about the yearly variation and just count up what happens during each weekday. [Here's what my version looks like](https://raw.githubusercontent.com/suneman/socialdata2022/main/files/weekdays.png). Some things make sense - for example `drunkenness` and the weekend. But there are some aspects that were surprising to me. Check out `prostitution` and mid-week behavior, for example!?\n",
    "> * *The months*. We can also check if some months are worse by counting up number of crimes in Jan, Feb, ..., Dec. Did you see any surprises there?\n",
    "> * *The 24 hour cycle*. We can also forget about weekday and simply count up the number of each crime-type that occurs in the dataset from midnight to 1am, 1am - 2am ... and so on. Again: Give me a couple of comments on what you see. \n",
    "> * *Hours of the week*. But by looking at just 24 hours, we may be missing some important trends that can be modulated by week-day, so let's also check out the 168 hours of the week. So let's see the number of each crime-type Monday night from midninght to 1am, Monday night from 1am-2am - all the way to Sunday night from 11pm to midnight.\n"
   ]
  },
  {
   "cell_type": "markdown",
   "metadata": {},
   "source": [
    "The next thing we'll be looking into is how crimes break down across the 10 districts in San Francisco.\n",
    "\n",
    "> *Exercise 2.2*: The types of crime and how they take place across San Francisco's police districts.\n",
    ">  \n",
    ">  * So now we'll be combining information about `PdDistrict` and `Category` to explore differences between SF's neighborhoods. First, simply list the names of SF's 10 police districts.\n",
    ">  * Which has the most crimes? Which has the most focus crimes?\n",
    ">  * Next, we want to generate a slightly more complicated graphic. I'm interested to know if there are certain crimes that happen much more in certain neighborhoods than what's typical. Below I describe how to get that plot going:\n",
    ">    - First, we need to calculate the relative probabilities of seeing each type of crime in the dataset as a whole. That's simply a normalized version of [this plot](https://raw.githubusercontent.com/suneman/socialdata2022/main/files/CrimeOccurrencesByCategory.png). Let's call it `P(crime)`.\n",
    ">    - Next, we calculate that same probability distribution _but for each PD district_, let's call that `P(crime|district)`.\n",
    ">    - Now we look at the ratio `P(crime|district)/P(crime)`. That ratio is equal to 1 if the crime occurs at the same level within a district as in the city as a whole. If it's greater than one, it means that the crime occurs _more frequently_ within that district. If it's smaller than one, it means that the crime is _rarer within the district in question_ than in the city as a whole.\n",
    ">    - For each district plot these ratios for the 14 focus crimes. My plot looks like this\n",
    "> ![Histograms](https://raw.githubusercontent.com/suneman/socialdata2022/main/files/conditional.png \"histograms\")\n",
    ">    - Comment on the top crimes in _Tenderloin_, _Mission_, and _Richmond_. Does this fit with the impression you get of these neighborhoods on Wikipedia?\n",
    "\n",
    "**Comment**. Notice how much awesome datascience (i.e. learning about interesting real-world crime patterns) we can get out by simply counting and plotting (and looking at ratios). Pretty great, right? However, when generating meaningful visualizations, we need to be wary of *perceptual errors*. We'll have a look at this in the final exercise while also having fun with some geodata!"
   ]
  },
  {
   "cell_type": "markdown",
   "metadata": {},
   "source": [
    "## Part 3: Visualizing geodata with Plotly\n",
    "\n",
    "So visualizing geodata used to be difficult, but with `Plotly` things have gotten easier. \n",
    "\n",
    "Like matplotlib, Plotly is an [open-source data visualization library](https://plotly.com/python/), but it's aimed at making interactive visualizations that can be rendered in a web browser (or jupyter notebook). You can read about it and learn how to install it [here](https://plotly.com/python/getting-started/).\n",
    "\n",
    "That means that we can easily draw on the fact that the crime data has lots of exciting geo-data attached. The map we're going to be creating is called a **[choropleth map](https://en.wikipedia.org/wiki/Choropleth_map)** (more on these later), which is basically a map, where we color in shapefiles (more on this below) based on some value that we care about. We'll take our inspiration from Plotly's gentle intro to [Choropleth maps](https://plotly.com/python/mapbox-county-choropleth/)\n",
    "\n",
    "The thing we want to look into is the SF police districts, shown below (image stolen from [this page](https://hoodline.com/2015/07/citywide-sfpd-redistricting-to-take-effect-sunday/)).\n",
    "\n",
    "![districts from web](https://raw.githubusercontent.com/suneman/socialdata2021/master/files/sfpdfinal.png)\n",
    "\n",
    "But because we are cool programmers, we want to create our own maps, **with our own information on them**. Let's do it!\n",
    "\n",
    "> *Exercise 3a*: Let's plot a map with some random values in it.\n",
    ">\n",
    "> What we need to do to get going is to create some random data. Below is a little dictionary with a random value for each district that you can use if you want your plots to look like mine."
   ]
  },
  {
   "cell_type": "code",
   "execution_count": 2,
   "metadata": {},
   "outputs": [],
   "source": [
    "randomdata = {'CENTRAL': 0.8903601342256143,\n",
    " 'SOUTHERN': 0.8642882941363439,\n",
    " 'BAYVIEW': 0.925634097746596,\n",
    " 'MISSION': 0.7369022697287458,\n",
    " 'PARK': 0.9864113307070926,\n",
    " 'RICHMOND': 0.5422239624697017,\n",
    " 'INGLESIDE': 0.5754056712571605,\n",
    " 'TARAVAL': 0.5834730737348696,\n",
    " 'NORTHERN': 0.08148199528212985,\n",
    " 'TENDERLOIN': 0.37014287986350447};"
   ]
  },
  {
   "cell_type": "markdown",
   "metadata": {},
   "source": [
    "> *Exercise 3a* continued:\n",
    ">\n",
    "> For this exercise, we'll use use the random values above and we'll also need some *shape-files*.\n",
    "> [Shapefiles can have many different formats](https://en.wikipedia.org/wiki/Shapefile). Because we are brilliant teachers and an all-round standup people, we are sharing the shapefiles as [`geojson`](https://en.wikipedia.org/wiki/GeoJSON), which is an easy-to-use format for shapefiles based on `json`.\n",
    ">\n",
    "> * Download the SFPD District shapefiles **[here](https://raw.githubusercontent.com/suneman/socialdata2022/main/files/sfpd.geojson)**\n",
    "> * Now that you have the shapefiles, you can follow the example here: https://plotly.com/python/mapbox-county-choropleth/ but with the following modifications:\n",
    ">    * In the example the `id` is a so-called FIPS code. In our case the `id` is the `DISTRICT`\n",
    ">    * You will have to convert the dictionary of random values I included above to a Pandas dataframe with the right column headings.\n",
    ">    * The data used in the example has a range between zero and 12. Your data is between $[0,1]$. So you'll need to modify the plotting command to accound for that change.\n",
    ">    * You should also change the map to display the right zoom level.\n",
    ">    * And the map should center on San Francisco's `lat` and `lon`.\n",
    "> * Now you can create your map.\n",
    "\n",
    "Mine looks something like this.\n",
    "\n",
    "![map_example.png](https://raw.githubusercontent.com/suneman/socialdata2021/master/files/map_example.png)\n",
    "\n",
    "You're encouraged to play around with other settings, color schemes, etc."
   ]
  },
  {
   "cell_type": "markdown",
   "metadata": {},
   "source": [
    "> *Exercise 3b:* But it's crime-data. Let's do something useful and **visualize where it is safest to leave your car on a Sunday**.\n",
    "> \n",
    "> Take a moment to congratulate yourself. You now know how to create cool plots!\n",
    "> * Now, we can focus on our main goal: *determine the districts where you should (and should not) leave your car on Sundays*. (Or stated differently, count up the number of thefts.)\n",
    "> * To do so, first:\n",
    ">  * Filter the crime dataset by the `DayOfWeek` category and also choose the appropriate crime category.\n",
    ">  * Aggregate data by police district.\n",
    "> * To create the plot, remember that your range of data-values is different from before, so you'll have to change the plotly command a bit.\n",
    "> * **Based on your map and analysis, where should you park the car for it to be safest on a Sunday? And where's the worst place?**\n",
    "> * Using visualizatios can help us uncover powerful data-patterns. However, when designing visualizations, we need to be aware of several illusions that can lead viewers to misinterpret the data we are showing (i.e. *perceptual errors*):\n",
    ">    * Try to change the range of data-values in the plot above. Is there a way to make the difference between district less evident? \n",
    ">    * Why do you think perceptual errors are a problem? Try to think of a few examples. You can have a look at this [article](https://www.businessinsider.com/fox-news-obamacare-chart-2014-3?r=US&IR=T) to get some inspiration.\n",
    "> * *Try this for Extra credit:*\n",
    ">     * Create plots for the same crime type, but different days, and comment on the results."
   ]
  }
 ],
 "metadata": {
  "kernelspec": {
   "display_name": "Python 3 (ipykernel)",
   "language": "python",
   "name": "python3"
  },
  "language_info": {
   "codemirror_mode": {
    "name": "ipython",
    "version": 3
   },
   "file_extension": ".py",
   "mimetype": "text/x-python",
   "name": "python",
   "nbconvert_exporter": "python",
   "pygments_lexer": "ipython3",
   "version": "3.9.7"
  }
 },
 "nbformat": 4,
 "nbformat_minor": 4
}
